{
 "cells": [
  {
   "cell_type": "markdown",
   "metadata": {},
   "source": [
    "# Classification - Support Vector Machine"
   ]
  },
  {
   "cell_type": "markdown",
   "metadata": {},
   "source": [
    "External Sources used:\n",
    "http://scikit-learn.org/stable/modules/svm.html\n",
    "\n",
    "http://scikit-learn.org/stable/auto_examples/svm/plot_iris.html#sphx-glr-auto-examples-svm-plot-iris-py\n",
    "\n",
    "https://stackoverflow.com/questions/39839112/the-easiest-way-for-getting-feature-names-after-running-selectkbest-in-scikit-le"
   ]
  },
  {
   "cell_type": "markdown",
   "metadata": {},
   "source": [
    "## For this task, Pandas and sklearn have been used\n",
    "\n",
    "- Loading wine dataset from sklearn datasets. \n",
    "- Spliting the dataset 70% for training, and 30% for testing the classifier.\n",
    "- Selecting only 2 attributes for training and testing the model. \n",
    "- Using One-vs-One method. \n",
    "- Trying with a linear, and non-linear kernel polynomial=3 and Gaussian RBF.\n",
    "- Calculating and printing the confusion matrix, and the classification Report (including: precision, recall, f1-score, and support) for linear and non-linear kernels. \n",
    "- Plotting the classifier in a 2D projection for linear and non-linear kernels."
   ]
  },
  {
   "cell_type": "code",
   "execution_count": 20,
   "metadata": {},
   "outputs": [],
   "source": [
    "from sklearn import datasets\n",
    "wine= datasets.load_wine()\n",
    "import pandas as pd\n",
    "import numpy as np\n",
    "import matplotlib.pyplot as plt"
   ]
  },
  {
   "cell_type": "code",
   "execution_count": 6,
   "metadata": {},
   "outputs": [],
   "source": [
    "x= wine.data\n",
    "y= wine.target\n",
    "X=x[:, 6:8] # Selecting 2 features and splitting the dataset 70% for training and 30% for testing\n",
    "from sklearn.model_selection import train_test_split\n",
    "x_train, x_test, y_train, y_test= train_test_split(X, y, test_size=0.3, random_state= 21,stratify=y)\n"
   ]
  },
  {
   "cell_type": "code",
   "execution_count": 7,
   "metadata": {},
   "outputs": [],
   "source": [
    "from sklearn import svm\n",
    "from sklearn.svm import SVC"
   ]
  },
  {
   "cell_type": "code",
   "execution_count": 8,
   "metadata": {},
   "outputs": [
    {
     "name": "stdout",
     "output_type": "stream",
     "text": [
      "[2 2 1 0 2 0 0 2 0 1 0 0 0 0 1 2 1 1 2 0 1 2 0 0 0 2 2 1 0 0 1 1 0 1 0 0 0\n",
      " 2 1 1 1 0 2 1 0 2 2 1 0 1 1 1 0 0]\n"
     ]
    }
   ],
   "source": [
    "clf1 = svm.SVC(kernel='linear') # Prediction using kernel= 'linear'\n",
    "clf1.fit(x_train,y_train)\n",
    "lin = clf1.predict(x_test)\n",
    "print(lin)"
   ]
  },
  {
   "cell_type": "code",
   "execution_count": 9,
   "metadata": {},
   "outputs": [
    {
     "name": "stdout",
     "output_type": "stream",
     "text": [
      "[2 2 1 0 2 0 0 2 0 2 0 0 0 0 1 2 1 1 2 0 1 2 0 0 0 2 2 2 0 0 1 1 0 1 0 0 0\n",
      " 2 1 2 1 0 2 1 0 2 2 1 0 1 1 1 0 0]\n"
     ]
    }
   ],
   "source": [
    "clf2= svm.SVC(kernel = 'poly', degree=3 ) # Prediction using kernel= 'polynomial'\n",
    "clf2.fit(x_train,y_train)\n",
    "non_lin1=clf2.predict(x_test)\n",
    "print(non_lin1)"
   ]
  },
  {
   "cell_type": "code",
   "execution_count": 10,
   "metadata": {},
   "outputs": [
    {
     "name": "stdout",
     "output_type": "stream",
     "text": [
      "[2 2 1 0 2 0 0 2 0 1 0 0 0 0 1 2 1 1 2 0 1 2 0 0 0 2 2 1 0 0 1 1 0 1 0 0 0\n",
      " 2 1 1 0 0 2 1 0 2 2 1 0 1 1 1 0 0]\n"
     ]
    }
   ],
   "source": [
    "clf3 = svm.SVC(kernel='rbf')  # Prediction using kernel='rbf'\n",
    "clf3.fit(x_train,y_train)\n",
    "non_lin2 = clf3.predict(x_test)\n",
    "print(non_lin2)"
   ]
  },
  {
   "cell_type": "code",
   "execution_count": 11,
   "metadata": {},
   "outputs": [],
   "source": [
    "from sklearn.metrics import confusion_matrix\n",
    "from sklearn.metrics import classification_report"
   ]
  },
  {
   "cell_type": "code",
   "execution_count": 19,
   "metadata": {},
   "outputs": [
    {
     "name": "stdout",
     "output_type": "stream",
     "text": [
      "[[17  1  0]\n",
      " [ 6 14  1]\n",
      " [ 0  3 12]]\n"
     ]
    }
   ],
   "source": [
    "print(confusion_matrix(y_test,lin)) # confusion matrix for kernel='linear'"
   ]
  },
  {
   "cell_type": "code",
   "execution_count": 13,
   "metadata": {},
   "outputs": [
    {
     "name": "stdout",
     "output_type": "stream",
     "text": [
      "             precision    recall  f1-score   support\n",
      "\n",
      "    class_0       0.74      0.94      0.83        18\n",
      "    class_1       0.78      0.67      0.72        21\n",
      "    class_2       0.92      0.80      0.86        15\n",
      "\n",
      "avg / total       0.81      0.80      0.79        54\n",
      "\n"
     ]
    }
   ],
   "source": [
    "t= wine.target_names # classification report for kernel= ' linear'\n",
    "print(classification_report(y_test, lin, target_names = t))"
   ]
  },
  {
   "cell_type": "code",
   "execution_count": 14,
   "metadata": {},
   "outputs": [
    {
     "name": "stdout",
     "output_type": "stream",
     "text": [
      "[[17  1  0]\n",
      " [ 6 13  2]\n",
      " [ 0  1 14]]\n"
     ]
    }
   ],
   "source": [
    "print(confusion_matrix(y_test, non_lin1)) # confusion matrix for kernel=' polynomial'"
   ]
  },
  {
   "cell_type": "code",
   "execution_count": 15,
   "metadata": {},
   "outputs": [
    {
     "name": "stdout",
     "output_type": "stream",
     "text": [
      "             precision    recall  f1-score   support\n",
      "\n",
      "    class_0       0.74      0.94      0.83        18\n",
      "    class_1       0.87      0.62      0.72        21\n",
      "    class_2       0.88      0.93      0.90        15\n",
      "\n",
      "avg / total       0.83      0.81      0.81        54\n",
      "\n"
     ]
    }
   ],
   "source": [
    "t = wine.target_names # classification report for kernel= 'polynomial'\n",
    "print(classification_report(y_test, non_lin1, target_names = t))"
   ]
  },
  {
   "cell_type": "code",
   "execution_count": 16,
   "metadata": {},
   "outputs": [
    {
     "name": "stdout",
     "output_type": "stream",
     "text": [
      "[[18  0  0]\n",
      " [ 6 14  1]\n",
      " [ 0  3 12]]\n"
     ]
    }
   ],
   "source": [
    "print(confusion_matrix(y_test, non_lin2)) # confusion matrix for kernel = 'rbf'"
   ]
  },
  {
   "cell_type": "code",
   "execution_count": 17,
   "metadata": {},
   "outputs": [
    {
     "name": "stdout",
     "output_type": "stream",
     "text": [
      "             precision    recall  f1-score   support\n",
      "\n",
      "    class_0       0.75      1.00      0.86        18\n",
      "    class_1       0.82      0.67      0.74        21\n",
      "    class_2       0.92      0.80      0.86        15\n",
      "\n",
      "avg / total       0.83      0.81      0.81        54\n",
      "\n"
     ]
    }
   ],
   "source": [
    "t = wine.target_names # classification report for kernel= 'rbf'\n",
    "print(classification_report(y_test, non_lin2, target_names = t)) "
   ]
  },
  {
   "cell_type": "code",
   "execution_count": 18,
   "metadata": {},
   "outputs": [
    {
     "name": "stdout",
     "output_type": "stream",
     "text": [
      "Automatically created module for IPython interactive environment\n"
     ]
    },
    {
     "data": {
      "image/png": "[encoded data removed]",
      "text/plain": [
       "<Figure size 432x288 with 4 Axes>"
      ]
     },
     "metadata": {},
     "output_type": "display_data"
    }
   ],
   "source": [
    "# Plotting the classifier for kernel='linear', kernel= 'polynomial', kernel= 'rbf'\n",
    "print(__doc__)\n",
    "\n",
    "import numpy as np\n",
    "import matplotlib.pyplot as plt\n",
    "from sklearn import svm, datasets\n",
    "def make_meshgrid(x, y, h=.02):\n",
    "    \"\"\"Create a mesh of points to plot in\n",
    " Parameters\n",
    "    ----------\n",
    "    x: data to base x-axis meshgrid on\n",
    "    y: data to base y-axis meshgrid on\n",
    "    h: stepsize for meshgrid, optional\n",
    "\n",
    "    Returns\n",
    "    -------\n",
    "    xx, yy : ndarray\n",
    "    \"\"\" \n",
    "\n",
    "    x_min, x_max = x.min() - 1, x.max() + 1\n",
    "    y_min, y_max = y.min() - 1, y.max() + 1\n",
    "    xx, yy = np.meshgrid(np.arange(x_min, x_max, h),\n",
    "                         np.arange(y_min, y_max, h)) \n",
    "\n",
    "    return xx, yy\n",
    "\n",
    "\n",
    "def plot_contours(ax, clf, xx, yy, **params):\n",
    "    \"\"\"Plot the decision boundaries for a classifier.\n",
    "\n",
    "    Parameters\n",
    "    ----------\n",
    "    ax: matplotlib axes object\n",
    "    clf: a classifier\n",
    "    xx: meshgrid ndarray\n",
    "    yy: meshgrid ndarray\n",
    "    params: dictionary of params to pass to contourf, optional\n",
    "    \"\"\"\n",
    "    Z = clf.predict(np.c_[xx.ravel(), yy.ravel()])\n",
    "    Z = Z.reshape(xx.shape)\n",
    "    out = ax.contourf(xx, yy, Z, **params)\n",
    "    return out\n",
    "\n",
    " \n",
    "\n",
    "\n",
    "# we create an instance of SVM and fit out data. We do not scale our\n",
    "# data since we want to plot the support vectors\n",
    "C = 1.0  # SVM regularization parameter\n",
    "models = (svm.SVC(kernel='linear', C=C),\n",
    "          svm.SVC(kernel='rbf', gamma=0.7, C=C),\n",
    "          svm.SVC(kernel='poly', degree=3, C=C))\n",
    "models = (clf.fit(X, y) for clf in models)\n",
    "\n",
    "# title for the plots\n",
    "titles = ('SVC with linear kernel',\n",
    "          'SVC with RBF kernel',\n",
    "          'SVC with polynomial (degree 3) kernel')\n",
    "\n",
    "# Set-up 2x2 grid for plotting.\n",
    "fig, sub = plt.subplots(2, 2)\n",
    "plt.subplots_adjust(wspace=0.8, hspace=0.8)\n",
    "\n",
    "X0, X1 = X[:, 0], X[:, 1]\n",
    "xx, yy = make_meshgrid(X0, X1)\n",
    "\n",
    "for clf, title, ax in zip(models, titles, sub.flatten()):\n",
    "    plot_contours(ax, clf, xx, yy,\n",
    "                  cmap=plt.cm.coolwarm, alpha=0.8)\n",
    "    ax.scatter(X0, X1, c=y, cmap=plt.cm.coolwarm, s=20, edgecolors='k')\n",
    "    ax.set_xlim(xx.min(), xx.max())\n",
    "    ax.set_ylim(yy.min(), yy.max())\n",
    "    ax.set_xlabel('Flavanoids')\n",
    "    ax.set_ylabel('Nonflavanoid_Phenols')\n",
    "    ax.set_xticks(())\n",
    "    ax.set_yticks(())\n",
    "    ax.set_title(title)\n",
    "\n",
    "plt.show()"
   ]
  },
  {
   "cell_type": "code",
   "execution_count": null,
   "metadata": {},
   "outputs": [],
   "source": []
  }
 ],
 "metadata": {
  "kernelspec": {
   "display_name": "Python 3",
   "language": "python",
   "name": "python3"
  },
  "language_info": {
   "codemirror_mode": {
    "name": "ipython",
    "version": 3
   },
   "file_extension": ".py",
   "mimetype": "text/x-python",
   "name": "python",
   "nbconvert_exporter": "python",
   "pygments_lexer": "ipython3",
   "version": "3.6.5"
  }
 },
 "nbformat": 4,
 "nbformat_minor": 1
}
